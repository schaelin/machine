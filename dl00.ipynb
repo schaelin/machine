{
 "cells": [
  {
   "cell_type": "code",
   "execution_count": 1,
   "metadata": {},
   "outputs": [],
   "source": [
    "import torch"
   ]
  },
  {
   "cell_type": "code",
   "execution_count": 4,
   "metadata": {},
   "outputs": [],
   "source": [
    "def print_val(x):\n",
    "    print \"type :\",type(x)\n",
    "    print \"shape : \", x.shape\n",
    "    print \"값 : \\n\", x\n",
    "    print \" \""
   ]
  },
  {
   "cell_type": "code",
   "execution_count": 5,
   "metadata": {},
   "outputs": [
    {
     "name": "stdout",
     "output_type": "stream",
     "text": [
      "type : <class 'torch.Tensor'>\n",
      "shape :  torch.Size([2, 3, 2])\n",
      "값 : \n",
      "tensor([[[0.8962, 0.9166],\n",
      "         [0.7678, 0.0976],\n",
      "         [0.8247, 0.6229]],\n",
      "\n",
      "        [[0.1738, 0.1033],\n",
      "         [0.5732, 0.8953],\n",
      "         [0.0164, 0.3216]]])\n",
      " \n",
      "type : <class 'torch.Tensor'>\n",
      "shape :  torch.Size([2, 3])\n",
      "값 : \n",
      "tensor([[ 2.1221, -1.6351,  1.2068],\n",
      "        [-0.4782, -0.2352, -2.2113]])\n",
      " \n"
     ]
    }
   ],
   "source": [
    "x = torch.rand(2,3,2)\n",
    "print_val(x)\n",
    "\n",
    "x=torch.randn(2,3)\n",
    "print_val(x)"
   ]
  },
  {
   "cell_type": "code",
   "execution_count": 6,
   "metadata": {},
   "outputs": [
    {
     "name": "stdout",
     "output_type": "stream",
     "text": [
      "type : <class 'torch.Tensor'>\n",
      "shape :  torch.Size([4])\n",
      "값 : \n",
      "tensor([2, 1, 3, 0])\n",
      " \n"
     ]
    }
   ],
   "source": [
    "x=torch.randperm(4)\n",
    "print_val(x)"
   ]
  },
  {
   "cell_type": "code",
   "execution_count": 7,
   "metadata": {},
   "outputs": [
    {
     "name": "stdout",
     "output_type": "stream",
     "text": [
      "type : <class 'torch.Tensor'>\n",
      "shape :  torch.Size([6])\n",
      "값 : \n",
      "tensor([0.0000, 0.5000, 1.0000, 1.5000, 2.0000, 2.5000])\n",
      " \n"
     ]
    }
   ],
   "source": [
    "x=torch.arange(0,3,step=0.5)\n",
    "print_val(x)"
   ]
  },
  {
   "cell_type": "code",
   "execution_count": 8,
   "metadata": {},
   "outputs": [
    {
     "name": "stdout",
     "output_type": "stream",
     "text": [
      "type : <class 'torch.Tensor'>\n",
      "shape :  torch.Size([3, 4])\n",
      "값 : \n",
      "tensor([[1., 1., 1., 1.],\n",
      "        [1., 1., 1., 1.],\n",
      "        [1., 1., 1., 1.]])\n",
      " \n",
      "type : <class 'torch.Tensor'>\n",
      "shape :  torch.Size([3, 4])\n",
      "값 : \n",
      "tensor([[0., 0., 0., 0.],\n",
      "        [0., 0., 0., 0.],\n",
      "        [0., 0., 0., 0.]])\n",
      " \n"
     ]
    }
   ],
   "source": [
    "print_val( torch.ones(3,4))\n",
    "print_val( torch.zeros(3,4))"
   ]
  },
  {
   "cell_type": "code",
   "execution_count": 10,
   "metadata": {},
   "outputs": [
    {
     "name": "stdout",
     "output_type": "stream",
     "text": [
      "type : <class 'torch.Tensor'>\n",
      "shape :  torch.Size([2, 4])\n",
      "값 : \n",
      "tensor([[-2.5025e+23,  4.5787e-41, -2.5025e+23,  4.5787e-41],\n",
      "        [ 3.2981e+03,  3.0751e-41, -9.0048e+23,  4.5787e-41]])\n",
      " \n"
     ]
    }
   ],
   "source": [
    "print_val(torch.Tensor(2,4))"
   ]
  },
  {
   "cell_type": "code",
   "execution_count": 15,
   "metadata": {},
   "outputs": [
    {
     "name": "stdout",
     "output_type": "stream",
     "text": [
      "type : <class 'torch.Tensor'>\n",
      "shape :  torch.Size([2])\n",
      "값 : \n",
      "tensor([2., 3.])\n",
      " \n",
      "type : <class 'torch.Tensor'>\n",
      "shape :  torch.Size([2, 2])\n",
      "값 : \n",
      "tensor([[2., 3.],\n",
      "        [3., 4.]])\n",
      " \n"
     ]
    }
   ],
   "source": [
    "print_val(torch.Tensor([2,3]) )\n",
    "\n",
    "print_val(torch.Tensor([[2,3],[3,4]]))"
   ]
  },
  {
   "cell_type": "code",
   "execution_count": 16,
   "metadata": {},
   "outputs": [
    {
     "name": "stdout",
     "output_type": "stream",
     "text": [
      "type : <class 'torch.Tensor'>\n",
      "shape :  torch.Size([2, 3])\n",
      "값 : \n",
      "tensor([[-9.1520e+23,  4.5787e-41, -9.1520e+23],\n",
      "        [ 4.5787e-41, -9.1520e+23,  4.5787e-41]])\n",
      " \n",
      "type : <class 'torch.Tensor'>\n",
      "shape :  torch.Size([2, 3])\n",
      "값 : \n",
      "tensor([[-2147483648,           0, -2147483648],\n",
      "        [          0, -2147483648,           0]], dtype=torch.int32)\n",
      " \n"
     ]
    }
   ],
   "source": [
    "x=torch.FloatTensor(2,3)\n",
    "print_val(x)\n",
    "\n",
    "x=x.type_as(torch.IntTensor())\n",
    "print_val(x)"
   ]
  },
  {
   "cell_type": "code",
   "execution_count": 17,
   "metadata": {},
   "outputs": [
    {
     "data": {
      "text/plain": [
       "torch.Size([3, 4, 5])"
      ]
     },
     "execution_count": 17,
     "metadata": {},
     "output_type": "execute_result"
    }
   ],
   "source": [
    "torch.FloatTensor(3,4,5).size()"
   ]
  },
  {
   "cell_type": "code",
   "execution_count": 18,
   "metadata": {},
   "outputs": [
    {
     "name": "stdout",
     "output_type": "stream",
     "text": [
      "type : <type 'numpy.ndarray'>\n",
      "shape :  (2, 3)\n",
      "값 : \n",
      "[[140341615276112 140341615276304 140341615276368]\n",
      " [140341615276432 140341615276496 140341615276560]]\n",
      " \n",
      "type : <class 'torch.Tensor'>\n",
      "shape :  torch.Size([2, 3])\n",
      "값 : \n",
      "tensor([[140341615276112, 140341615276304, 140341615276368],\n",
      "        [140341615276432, 140341615276496, 140341615276560]])\n",
      " \n"
     ]
    }
   ],
   "source": [
    "import numpy as np\n",
    "np_x = np.ndarray((2,3),dtype = int)\n",
    "print_val(np_x)\n",
    "\n",
    "x=torch.from_numpy(np_x)\n",
    "print_val(x)"
   ]
  },
  {
   "cell_type": "markdown",
   "metadata": {},
   "source": [
    "# MNIST 데이터로드"
   ]
  },
  {
   "cell_type": "code",
   "execution_count": 19,
   "metadata": {},
   "outputs": [],
   "source": [
    "import torchvision.datasets as dset\n",
    "import torchvision.transforms as transforms\n",
    "from torch.utils.data import DataLoader\n",
    "from torch.autograd import Variable\n",
    "import matplotlib.pyplot as plt\n",
    "%matplotlib inline"
   ]
  },
  {
   "cell_type": "code",
   "execution_count": 24,
   "metadata": {},
   "outputs": [
    {
     "name": "stdout",
     "output_type": "stream",
     "text": [
      "torch.Size([1, 28, 28]) 5\n",
      "torch.Size([1, 28, 28]) 0\n",
      "60000\n",
      "mnist 길이: 60000\n",
      "5\n",
      "torch.Size([1, 28, 28])\n"
     ]
    },
    {
     "data": {
      "image/png": "[encoded data removed]",
      "text/plain": [
       "<Figure size 432x288 with 1 Axes>"
      ]
     },
     "metadata": {},
     "output_type": "display_data"
    },
    {
     "data": {
      "image/png": "[encoded data removed]",
      "text/plain": [
       "<Figure size 432x288 with 1 Axes>"
      ]
     },
     "metadata": {},
     "output_type": "display_data"
    },
    {
     "data": {
      "image/png": "[encoded data removed]",
      "text/plain": [
       "<Figure size 432x288 with 1 Axes>"
      ]
     },
     "metadata": {},
     "output_type": "display_data"
    }
   ],
   "source": [
    "#mnist 로드\n",
    "mnist_train = dset.MNIST(\"\",train = True, transform=transforms.ToTensor(),\n",
    "                        target_transform=None, download=True)\n",
    "\n",
    "#그려보기\n",
    "image, label = mnist_train.__getitem__(0)\n",
    "print image.size(), label\n",
    "\n",
    "image, label = mnist_train[1]\n",
    "print image.size(),label\n",
    "\n",
    "print mnist_train.__len__()\n",
    "print \"mnist 길이:\", len(mnist_train)\n",
    "\n",
    "print mnist_train[0][1]\n",
    "print mnist_train[0][0].size()\n",
    "\n",
    "for i in range(3):\n",
    "    img = mnist_train[i][0].numpy()\n",
    "    plt.title(\"label:%d\" %mnist_train[i][1])\n",
    "    plt.imshow(img[0], cmap='gray')\n",
    "    plt.show()"
   ]
  },
  {
   "cell_type": "code",
   "execution_count": 28,
   "metadata": {},
   "outputs": [],
   "source": [
    "mnist_train = dset.MNIST(\"\",train = True, transform=transforms.ToTensor(),\n",
    "                        target_transform=None, download=True)\n",
    "mnist_test = dset.MNIST(\"\",train = False, transform=transforms.ToTensor(),\n",
    "                        target_transform=None, download=True)"
   ]
  },
  {
   "cell_type": "code",
   "execution_count": 31,
   "metadata": {
    "scrolled": true
   },
   "outputs": [
    {
     "name": "stdout",
     "output_type": "stream",
     "text": [
      "mnist_train의 길이: 60000\n",
      "mnist_test의 길이: 10000\n",
      "image data형태: torch.Size([1, 28, 28])\n",
      "label: 5\n"
     ]
    },
    {
     "data": {
      "image/png": "[encoded data removed]",
      "text/plain": [
       "<Figure size 432x288 with 1 Axes>"
      ]
     },
     "metadata": {},
     "output_type": "display_data"
    }
   ],
   "source": [
    "print \"mnist_train의 길이:\", len(mnist_train)\n",
    "print \"mnist_test의 길이:\", len(mnist_test)\n",
    "\n",
    "image, label = mnist_train.__getitem__(0)\n",
    "print \"image data형태:\",image.size()\n",
    "print \"label:\",label\n",
    "\n",
    "img = image.numpy()\n",
    "plt.title(\"label:%d\" %label)\n",
    "plt.imshow(img[0], cmap='gray')\n",
    "plt.show()"
   ]
  },
  {
   "cell_type": "code",
   "execution_count": 32,
   "metadata": {},
   "outputs": [],
   "source": [
    "batch_size =16"
   ]
  },
  {
   "cell_type": "code",
   "execution_count": 33,
   "metadata": {},
   "outputs": [],
   "source": [
    "train_loader = torch.utils.data.DataLoader(list(mnist_train)[:batch_size*100],batch_size=batch_size,\n",
    "                                           shuffle = True, num_workers=2,\n",
    "                                           drop_last=True)\n",
    "test_loader = torch.utils.data.DataLoader(list(mnist_train)[:batch_size*100],batch_size=batch_size,\n",
    "                                           shuffle = False, num_workers=2,\n",
    "                                           drop_last=True)"
   ]
  },
  {
   "cell_type": "code",
   "execution_count": 37,
   "metadata": {},
   "outputs": [
    {
     "name": "stdout",
     "output_type": "stream",
     "text": [
      "[0]\n",
      "한번에 로드되는 데이터의 크기 16\n",
      "torch.Size([16, 28, 28])\n",
      "torch.Size([16])\n"
     ]
    },
    {
     "data": {
      "image/png": "[encoded data removed]",
      "text/plain": [
       "<Figure size 432x288 with 3 Axes>"
      ]
     },
     "metadata": {},
     "output_type": "display_data"
    },
    {
     "name": "stdout",
     "output_type": "stream",
     "text": [
      "[1]\n",
      "한번에 로드되는 데이터의 크기 16\n",
      "torch.Size([16, 28, 28])\n",
      "torch.Size([16])\n"
     ]
    },
    {
     "data": {
      "image/png": "[encoded data removed]",
      "text/plain": [
       "<Figure size 432x288 with 3 Axes>"
      ]
     },
     "metadata": {},
     "output_type": "display_data"
    },
    {
     "name": "stdout",
     "output_type": "stream",
     "text": [
      "[2]\n",
      "한번에 로드되는 데이터의 크기 16\n",
      "torch.Size([16, 28, 28])\n",
      "torch.Size([16])\n"
     ]
    },
    {
     "data": {
      "image/png": "[encoded data removed]",
      "text/plain": [
       "<Figure size 432x288 with 3 Axes>"
      ]
     },
     "metadata": {},
     "output_type": "display_data"
    },
    {
     "name": "stdout",
     "output_type": "stream",
     "text": [
      "[3]\n",
      "한번에 로드되는 데이터의 크기 16\n",
      "torch.Size([16, 28, 28])\n",
      "torch.Size([16])\n"
     ]
    },
    {
     "data": {
      "image/png": "[encoded data removed]",
      "text/plain": [
       "<Figure size 432x288 with 3 Axes>"
      ]
     },
     "metadata": {},
     "output_type": "display_data"
    },
    {
     "name": "stdout",
     "output_type": "stream",
     "text": [
      "[4]\n",
      "한번에 로드되는 데이터의 크기 16\n",
      "torch.Size([16, 28, 28])\n",
      "torch.Size([16])\n"
     ]
    },
    {
     "data": {
      "image/png": "[encoded data removed]",
      "text/plain": [
       "<Figure size 432x288 with 3 Axes>"
      ]
     },
     "metadata": {},
     "output_type": "display_data"
    },
    {
     "name": "stdout",
     "output_type": "stream",
     "text": [
      "[5]\n",
      "한번에 로드되는 데이터의 크기 16\n",
      "torch.Size([16, 28, 28])\n",
      "torch.Size([16])\n"
     ]
    },
    {
     "data": {
      "image/png": "[encoded data removed]",
      "text/plain": [
       "<Figure size 432x288 with 3 Axes>"
      ]
     },
     "metadata": {},
     "output_type": "display_data"
    }
   ],
   "source": [
    "n=3\n",
    "for i, [imgs, labels] in enumerate(test_loader):\n",
    "    if i>5:\n",
    "        break\n",
    "    \n",
    "    print \"[%d]\" %i\n",
    "    print \"한번에 로드되는 데이터의 크기\", len(imgs)\n",
    "    \n",
    "    x=Variable(imgs)\n",
    "    x=x.reshape((x.shape[0],x.shape[2], x.shape[3]))\n",
    "    y_=Variable(labels)\n",
    "    \n",
    "    print x.shape\n",
    "    print y_.shape\n",
    "    \n",
    "    for j in range(n):\n",
    "        img = imgs[j].numpy()\n",
    "        img = img.reshape((img.shape[1],img.shape[2]))\n",
    "        \n",
    "        plt.subplot(1,n,j+1)\n",
    "        plt.imshow(img, cmap='gray')\n",
    "        plt.title(\"label:%d\" %labels[j])\n",
    "    plt.show()"
   ]
  },
  {
   "cell_type": "code",
   "execution_count": null,
   "metadata": {},
   "outputs": [],
   "source": []
  }
 ],
 "metadata": {
  "kernelspec": {
   "display_name": "conda_pytorch_p27",
   "language": "python",
   "name": "conda_pytorch_p27"
  },
  "language_info": {
   "codemirror_mode": {
    "name": "ipython",
    "version": 2
   },
   "file_extension": ".py",
   "mimetype": "text/x-python",
   "name": "python",
   "nbconvert_exporter": "python",
   "pygments_lexer": "ipython2",
   "version": "2.7.15"
  }
 },
 "nbformat": 4,
 "nbformat_minor": 4
}
